{
 "cells": [
  {
   "cell_type": "markdown",
   "id": "1d3b9632-397f-47ee-8369-41d406ed7dbb",
   "metadata": {},
   "source": [
    "# <b/> <center><font color='green'>Financial AI Agent using LangGraph</font></center>"
   ]
  },
  {
   "cell_type": "markdown",
   "id": "c3e477eb-f6ef-4c81-9977-0bafb2af4ac9",
   "metadata": {},
   "source": [
    "#### <b/>Project Overview:\n",
    "<b>Objective:</b> The project aims to build an intelligent finance assistant capable of answering complex queries about financial metrics. This assistant utilizes advanced AI techniques and integrates various tools to provide accurate financial information based on user queries.\n",
    "\n",
    "#### <b/>Components and Technologies Used\n",
    "1. <b/>Language Model Integration:\n",
    "\n",
    "* Model: Llama 3.1 (or a similar large language model).\n",
    "* Library: langchain_groq to interface with the language model.\n",
    "* Purpose: The model processes natural language queries and generates appropriate responses. It can also interact with tools to fetch and compute required data.\n",
    "\n",
    "2. <b/>Tool Integration:\n",
    "\n",
    "* <b>Tools:</b> A set of tools provided by the langchain_core library, which includes:\n",
    "  * company_address: Fetches the address of a company based on its stock ticker.\n",
    "  * fulltime_employees: Retrieves the number of full-time employees for a given company.\n",
    "  * last_close_price: Provides the last closing price of a company's stock.\n",
    "  * EBITDA: Returns the EBITDA (Earnings Before Interest, Taxes, Depreciation, and Amortization) for a company.\n",
    "  * total_debt: Retrieves the total debt of a company.\n",
    "  * total_revenue: Provides the total revenue of a company.\n",
    "  * debt_to_equity_ratio: Calculates the debt-to-equity ratio of a company.\n",
    "\n",
    "3. <b/>State Management and Execution:\n",
    "\n",
    "* State Graph: Uses StateGraph from langgraph to manage the flow of execution between the language model and tools.\n",
    "* Graph Logic:\n",
    "  * Nodes: Define actions like calling the model (llama3) or executing tools (action).\n",
    "  * Conditional Edges: Determine whether to continue interacting with the model or executing actions based on the presence of tool calls.\n",
    "  * Graph Execution: Uses methods to run the state graph, invoking tools and processing results.\n",
    "\n",
    "4. <b/>Custom Agent:\n",
    "\n",
    "  * Agent Class: ReActAgent integrates the language model and tools, facilitating interactions through the state graph.\n",
    "  * Functionality:\n",
    "     * Handles queries from users.\n",
    "     * Determines if and which tools to call based on the query.\n",
    "     * Manages tool executions and combines results with model responses.\n",
    "\n",
    "5. <b/>User Interaction:\n",
    "  * Interface: Users interact with the system by sending queries like “Compare total revenue of Amazon and Google.”\n",
    "  * Response Handling: The system fetches relevant data using the integrated tools and provides comprehensive responses.\n",
    "\n",
    "6. <b/>Visualization:\n",
    "  * Graph Visualization: Uses libraries like graphviz to visualize the state graph for understanding the flow and interactions.\n",
    " \n",
    "#### <b/>Key Technologies:\n",
    "* Python: The primary programming language used.\n",
    "* langchain_groq: For integrating and managing the language model.\n",
    "* langchain_core: For tool definitions and message handling.\n",
    "* langgraph: For defining and managing the state graph.\n",
    "* yfinance: To fetch financial data.\n",
    "* graphviz: For visualizing the state graph."
   ]
  },
  {
   "cell_type": "markdown",
   "id": "958121f6-ab4c-46f0-b8a7-c59378a2eeb4",
   "metadata": {},
   "source": [
    "#### <b/> Table of Contents:\n",
    "##### 1. Loading LLM(Groq Llama 3.1 70B)\n",
    "##### 2. Defining Tools\n",
    "##### 3. Binding Tools with LLM Model\n",
    "##### 4. Defining ReAct | Tool Calling Agent\n",
    "##### 5. Query the Agent"
   ]
  },
  {
   "cell_type": "code",
   "execution_count": 2,
   "id": "ae5e8e77-1ff4-4a64-939c-78c8f1545694",
   "metadata": {},
   "outputs": [],
   "source": [
    "from dotenv import find_dotenv, load_dotenv\n",
    "import os\n",
    "\n",
    "load_dotenv(find_dotenv())\n",
    "\n",
    "groq_api_key = os.environ[\"GROQ_API_KEY\"]"
   ]
  },
  {
   "cell_type": "markdown",
   "id": "55c8269c-9631-4abe-aa8d-2e2259d20bed",
   "metadata": {},
   "source": [
    "## <b/> 1. Loading LLM Model"
   ]
  },
  {
   "cell_type": "markdown",
   "id": "d35c213c-5513-4629-bfab-0bf1094a6b95",
   "metadata": {},
   "source": [
    " * <b/> Installing LangChain Groq Module "
   ]
  },
  {
   "cell_type": "code",
   "execution_count": 3,
   "id": "ef9d1740-0fe2-41c8-8a15-d5cd816e00b2",
   "metadata": {},
   "outputs": [
    {
     "data": {
      "text/plain": [
       "ChatGroq(client=<groq.resources.chat.completions.Completions object at 0x119ec7dd0>, async_client=<groq.resources.chat.completions.AsyncCompletions object at 0x119a79350>, model_name='llama-3.1-70b-versatile', model_kwargs={}, groq_api_key=SecretStr('**********'))"
      ]
     },
     "execution_count": 3,
     "metadata": {},
     "output_type": "execute_result"
    }
   ],
   "source": [
    "from langchain_groq import ChatGroq\n",
    "\n",
    "llama3 = ChatGroq(api_key = groq_api_key, model = \"llama-3.1-70b-versatile\")\n",
    "\n",
    "llama3"
   ]
  },
  {
   "cell_type": "code",
   "execution_count": 4,
   "id": "d89c561c-05d7-4a79-a9d2-185f2bd29aa6",
   "metadata": {},
   "outputs": [
    {
     "data": {
      "text/plain": [
       "AIMessage(content=\"Hello! I'm doing well, thank you for asking. I'm a large language model, so I don't have emotions or feelings like humans do, but I'm functioning properly and ready to help with any questions or tasks you may have. It's nice to chat with you! How can I assist you today?\", additional_kwargs={}, response_metadata={'token_usage': {'completion_tokens': 65, 'prompt_tokens': 47, 'total_tokens': 112, 'completion_time': 0.26, 'prompt_time': 0.011457342, 'queue_time': 0.004980424999999998, 'total_time': 0.271457342}, 'model_name': 'llama-3.1-70b-versatile', 'system_fingerprint': 'fp_b3ae7e594e', 'finish_reason': 'stop', 'logprobs': None}, id='run-4641f618-298e-4620-9b29-d761140de24d-0', usage_metadata={'input_tokens': 47, 'output_tokens': 65, 'total_tokens': 112})"
      ]
     },
     "execution_count": 4,
     "metadata": {},
     "output_type": "execute_result"
    }
   ],
   "source": [
    "llama3.invoke(\"Hello, how are you Llama 3.1?\")"
   ]
  },
  {
   "cell_type": "markdown",
   "id": "ccf9fa32-8694-4720-bbdd-675ddddcfb87",
   "metadata": {},
   "source": [
    "## <b/> 2. Defining Tools"
   ]
  },
  {
   "cell_type": "code",
   "execution_count": 5,
   "id": "99dc91ea-d674-45d1-9ec1-dd96b78393d2",
   "metadata": {},
   "outputs": [],
   "source": [
    "from langchain_core.tools import tool, StructuredTool\n",
    "import yfinance as yf\n",
    "\n",
    "@tool\n",
    "def company_address(ticker: str) -> str:\n",
    "    \"\"\"\n",
    "    Returns company address for input ticker.\n",
    "    e.g. company_address: AAPL\n",
    "    Returns company address for ticker AAPL which is stock ticker for Apple Inc.\n",
    "    \"\"\"\n",
    "    ticker_obj = yf.Ticker(ticker)\n",
    "    info = ticker_obj.get_info()\n",
    "\n",
    "    return \" \".join([info[key] for key in ['address1','city','state','zip','country']])\n",
    "\n",
    "@tool\n",
    "def fulltime_employees(ticker: str) -> int:\n",
    "    \"\"\"\n",
    "    Returns fulltime employees count for input ticker.\n",
    "    e.g. company_address: MSFT\n",
    "    Returns fulltime employees count for ticker MSFT which is stock ticker for Microsoft.\n",
    "    \"\"\"\n",
    "    ticker_obj = yf.Ticker(ticker)\n",
    "    info = ticker_obj.get_info()\n",
    "\n",
    "    return info['fullTimeEmployees']\n",
    "\n",
    "@tool\n",
    "def last_close_price(ticker: str) -> float:\n",
    "    \"\"\"\n",
    "    Returns last close price for input ticker.\n",
    "    e.g. company_address: MSFT\n",
    "    Returns last close price for ticker MSFT which is stock ticker for Microsoft.\n",
    "    \"\"\"\n",
    "    ticker_obj = yf.Ticker(ticker)\n",
    "    info = ticker_obj.get_info()\n",
    "\n",
    "    return info['previousClose']\n",
    "\n",
    "@tool\n",
    "def EBITDA(ticker: str) -> float:\n",
    "    \"\"\"\n",
    "    Returns EBITDA for input ticker.\n",
    "    e.g. company_address: AAPL\n",
    "    Returns EBITDA for ticker AAPL which is stock ticker for Apple Inc.\n",
    "    \"\"\"\n",
    "    ticker_obj = yf.Ticker(ticker)\n",
    "    info = ticker_obj.get_info()\n",
    "\n",
    "    return info['ebitda']\n",
    "\n",
    "@tool\n",
    "def total_debt(ticker: str) -> float:\n",
    "    \"\"\"\n",
    "    Returns total debt for input ticker.\n",
    "    e.g. company_address: AAPL\n",
    "    Returns total debt for ticker AAPL which is stock ticker for Apple Inc.\n",
    "    \"\"\"\n",
    "    ticker_obj = yf.Ticker(ticker)\n",
    "    info = ticker_obj.get_info()\n",
    "\n",
    "    return info['totalDebt']\n",
    "\n",
    "@tool\n",
    "def total_revenue(ticker: str) -> float:\n",
    "    \"\"\"\n",
    "    Returns total revenue for input ticker.\n",
    "    e.g. company_address: MSFT\n",
    "    Returns total revenue for ticker MSFT which is stock ticker for Microsoft.\n",
    "    \"\"\"\n",
    "    ticker_obj = yf.Ticker(ticker)\n",
    "    info = ticker_obj.get_info()\n",
    "\n",
    "    return info['totalRevenue']\n",
    "\n",
    "@tool\n",
    "def debt_to_equity_ratio(ticker: str) -> float:\n",
    "    \"\"\"\n",
    "    Returns debt to equity ratio for input ticker.\n",
    "    e.g. company_address: AAPL\n",
    "    Returns debt to equity ratio for ticker AAPL which is stock ticker for Apple Inc.\n",
    "    \"\"\"\n",
    "    ticker_obj = yf.Ticker(ticker)\n",
    "    info = ticker_obj.get_info()\n",
    "\n",
    "    return info['debtToEquity']\n",
    "\n",
    "tools = [\n",
    "    company_address,\n",
    "    fulltime_employees,\n",
    "    last_close_price,\n",
    "    EBITDA,\n",
    "    total_debt,\n",
    "    total_revenue,\n",
    "    debt_to_equity_ratio\n",
    "]"
   ]
  },
  {
   "cell_type": "markdown",
   "id": "06f29eae-6775-48c1-800a-fc0f56c56c12",
   "metadata": {},
   "source": [
    "## <b/> 3. Binding Tools with LLMs"
   ]
  },
  {
   "cell_type": "code",
   "execution_count": 6,
   "id": "ffef777c-14ce-475f-a8ed-b2c61d3d2a6e",
   "metadata": {},
   "outputs": [],
   "source": [
    "llama3_with_tools = llama3.bind_tools(tools, tool_choice='auto')"
   ]
  },
  {
   "cell_type": "code",
   "execution_count": 7,
   "id": "cb04a759-8ced-453c-92bc-c908da569e6b",
   "metadata": {},
   "outputs": [
    {
     "name": "stdout",
     "output_type": "stream",
     "text": [
      "I'm here to help with your finance-related queries. What would you like to know?\n",
      "[]\n"
     ]
    }
   ],
   "source": [
    "ai_msg = llama3_with_tools.invoke('Whatzzz up??')\n",
    "\n",
    "print(ai_msg.content)\n",
    "print(ai_msg.tool_calls)"
   ]
  },
  {
   "cell_type": "code",
   "execution_count": 8,
   "id": "0e2cd38f-85c2-405a-b8c6-c58e9a30ae88",
   "metadata": {},
   "outputs": [
    {
     "name": "stdout",
     "output_type": "stream",
     "text": [
      "\n",
      "[{'name': 'EBITDA', 'args': {'ticker': 'MSFT'}, 'id': 'call_xvbb', 'type': 'tool_call'}]\n"
     ]
    }
   ],
   "source": [
    "ai_msg = llama3_with_tools.invoke(\"What's the EBITDA of Microsoft?\")\n",
    "\n",
    "print(ai_msg.content)\n",
    "print(ai_msg.tool_calls)"
   ]
  },
  {
   "cell_type": "code",
   "execution_count": 9,
   "id": "53f20027-6f57-4b76-9365-64327efd4d6a",
   "metadata": {},
   "outputs": [
    {
     "data": {
      "text/plain": [
       "129433001984"
      ]
     },
     "execution_count": 9,
     "metadata": {},
     "output_type": "execute_result"
    }
   ],
   "source": [
    "EBITDA.invoke(ai_msg.tool_calls[0]['args'])"
   ]
  },
  {
   "cell_type": "markdown",
   "id": "70a495a9-f11a-4e23-ba35-d1612a127bde",
   "metadata": {},
   "source": [
    "## <b/> 4. Defining ReAct / Tool Calling Agent"
   ]
  },
  {
   "cell_type": "markdown",
   "id": "6ab45473-005d-4e64-9b24-b221957c727a",
   "metadata": {},
   "source": [
    "<img src = 'https://raw.githubusercontent.com/sunny2309/langchain_tutorials/main/LangGraph_ReAct_Agent.png' height=600 width=800>"
   ]
  },
  {
   "cell_type": "code",
   "execution_count": 10,
   "id": "e2f9364a-934f-4580-9eac-0594e44edb70",
   "metadata": {},
   "outputs": [],
   "source": [
    "from langgraph.graph import StateGraph, END\n",
    "from typing import TypedDict, Annotated\n",
    "import operator\n",
    "from langchain_core.messages import HumanMessage, AnyMessage, SystemMessage, ToolMessage\n",
    "\n",
    "class AgentState(TypedDict):\n",
    "    messages: Annotated[list[AnyMessage], operator.add]\n",
    "\n",
    "class ReActAgent:\n",
    "    def __init__(self, model, tools, system=\"\"):\n",
    "        self.system = system\n",
    "        self.tools = {t.name: t for t in tools}\n",
    "        self.model = model.bind_tools(tools, tool_choice=\"auto\")\n",
    "\n",
    "        graph = StateGraph(AgentState)\n",
    "        graph.add_node(\"llama3\", self.call_llm)\n",
    "        graph.add_node(\"action\", self.take_action)\n",
    "        graph.add_conditional_edges(\n",
    "            \"llama3\",\n",
    "            self.exists_action,\n",
    "            {True: \"action\", False: END}\n",
    "        )\n",
    "        graph.add_edge(\"action\", \"llama3\")\n",
    "        graph.set_entry_point(\"llama3\")\n",
    "        self.graph = graph.compile()\n",
    "\n",
    "    def exists_action(self, state: AgentState):\n",
    "        result = state['messages'][-1]\n",
    "        return len(result.tool_calls) > 0\n",
    "\n",
    "    def call_llm(self, state: AgentState):\n",
    "        messages = state['messages']\n",
    "        if self.system:\n",
    "            messages = [SystemMessage(content=self.system)] + messages\n",
    "        message = self.model.invoke(messages)\n",
    "        return {'messages': [message]}\n",
    "\n",
    "    def take_action(self, state: AgentState):\n",
    "        tool_calls = state['messages'][-1].tool_calls\n",
    "        results = []\n",
    "        for t in tool_calls:\n",
    "            print(f\"Calling Tool : {t}\")\n",
    "            if not t['name'] in self.tools:\n",
    "                print(f\"\\n Tool : {t} does not exist.\")\n",
    "                result = \"Incorrect Tool Name, Please retry and select tool from available tools.\"\n",
    "            else:\n",
    "                result = self.tools[t['name']].invoke(t['args'])\n",
    "            results.append(ToolMessage(tool_call_id = t['id'], name = t['name'], content = str(result)))\n",
    "        print(\"Tool execution is completed. Back to the model!\")\n",
    "        return {'messages' : results}"
   ]
  },
  {
   "cell_type": "code",
   "execution_count": 11,
   "id": "317a2f21-a6b2-44c8-b63a-f7436c325b5e",
   "metadata": {},
   "outputs": [],
   "source": [
    "prompt = \"\"\"\n",
    "You are a smart AI finance assistant. Use the list of available tools to answer questions if needed.\n",
    "You are allowed to make multiple calls (either together or in sequence).\n",
    "If you need to look up some information before asking a follow up question, you are allowed to do that!\n",
    "\"\"\"\n",
    "\n",
    "agent = ReActAgent(llama3, tools, system=prompt)"
   ]
  },
  {
   "cell_type": "code",
   "execution_count": 13,
   "id": "46a0b0fb-1928-4aff-8a98-49e66467624d",
   "metadata": {},
   "outputs": [
    {
     "data": {
      "image/png": "[encoded data removed]",
      "text/plain": [
       "<IPython.core.display.Image object>"
      ]
     },
     "execution_count": 13,
     "metadata": {},
     "output_type": "execute_result"
    }
   ],
   "source": [
    "# Visualizing the graph\n",
    "from IPython.display import Image\n",
    "\n",
    "Image(agent.graph.get_graph().draw_png())"
   ]
  },
  {
   "cell_type": "markdown",
   "id": "e44f5a92-1dec-47f0-83bf-ddf4f0c23e08",
   "metadata": {},
   "source": [
    "## <b/> 5. Using the Agent"
   ]
  },
  {
   "cell_type": "code",
   "execution_count": 14,
   "id": "c071617f-b472-45f9-940e-d95b4a5a4605",
   "metadata": {},
   "outputs": [
    {
     "data": {
      "text/plain": [
       "\"I'm here and ready to assist. What can I help you with today?\""
      ]
     },
     "execution_count": 14,
     "metadata": {},
     "output_type": "execute_result"
    }
   ],
   "source": [
    "messages = [HumanMessage(content=\"What's up Llama 3.1?\")]\n",
    "\n",
    "result = agent.graph.invoke({'messages': messages})\n",
    "\n",
    "result['messages'][-1].content"
   ]
  },
  {
   "cell_type": "code",
   "execution_count": 15,
   "id": "bcecc365-38e0-4f86-9a4a-b8cab657f92d",
   "metadata": {},
   "outputs": [
    {
     "name": "stdout",
     "output_type": "stream",
     "text": [
      "Calling Tool : {'name': 'EBITDA', 'args': {'ticker': 'NVDA'}, 'id': 'call_xdmg', 'type': 'tool_call'}\n",
      "Tool execution is completed. Back to the model!\n"
     ]
    }
   ],
   "source": [
    "messages = [HumanMessage(content=\"What is the EBITDA of Nvidia?\")]\n",
    "\n",
    "result = agent.graph.invoke({'messages': messages})"
   ]
  },
  {
   "cell_type": "code",
   "execution_count": 16,
   "id": "f704e4f3-2a2e-4900-b4b3-ac9fb1d6992b",
   "metadata": {},
   "outputs": [
    {
     "data": {
      "text/plain": [
       "{'messages': [HumanMessage(content='What is the EBITDA of Nvidia?', additional_kwargs={}, response_metadata={}),\n",
       "  AIMessage(content='', additional_kwargs={'tool_calls': [{'id': 'call_xdmg', 'function': {'arguments': '{\"ticker\": \"NVDA\"}', 'name': 'EBITDA'}, 'type': 'function'}]}, response_metadata={'token_usage': {'completion_tokens': 17, 'prompt_tokens': 957, 'total_tokens': 974, 'completion_time': 0.068, 'prompt_time': 0.236422996, 'queue_time': 0.005599932000000002, 'total_time': 0.304422996}, 'model_name': 'llama-3.1-70b-versatile', 'system_fingerprint': 'fp_9260b4bb2e', 'finish_reason': 'tool_calls', 'logprobs': None}, id='run-44f1ccdd-c547-44fd-a133-43564f6ea791-0', tool_calls=[{'name': 'EBITDA', 'args': {'ticker': 'NVDA'}, 'id': 'call_xdmg', 'type': 'tool_call'}], usage_metadata={'input_tokens': 957, 'output_tokens': 17, 'total_tokens': 974}),\n",
       "  ToolMessage(content='61184000000', name='EBITDA', tool_call_id='call_xdmg'),\n",
       "  AIMessage(content='The EBITDA of Nvidia is 61,184,000,000.', additional_kwargs={}, response_metadata={'token_usage': {'completion_tokens': 17, 'prompt_tokens': 988, 'total_tokens': 1005, 'completion_time': 0.068313261, 'prompt_time': 0.270541606, 'queue_time': 0.005300897000000027, 'total_time': 0.338854867}, 'model_name': 'llama-3.1-70b-versatile', 'system_fingerprint': 'fp_b6828be2c9', 'finish_reason': 'stop', 'logprobs': None}, id='run-825dc4d3-c9a0-4c22-b5e5-9cee4f21e26a-0', usage_metadata={'input_tokens': 988, 'output_tokens': 17, 'total_tokens': 1005})]}"
      ]
     },
     "execution_count": 16,
     "metadata": {},
     "output_type": "execute_result"
    }
   ],
   "source": [
    "result"
   ]
  },
  {
   "cell_type": "code",
   "execution_count": 17,
   "id": "3d71c91b-6173-4b17-967e-2ff20c292516",
   "metadata": {},
   "outputs": [
    {
     "data": {
      "text/plain": [
       "'The EBITDA of Nvidia is 61,184,000,000.'"
      ]
     },
     "execution_count": 17,
     "metadata": {},
     "output_type": "execute_result"
    }
   ],
   "source": [
    "result['messages'][-1].content"
   ]
  },
  {
   "cell_type": "code",
   "execution_count": 18,
   "id": "18d6f50f-92bc-4569-85a9-5d287b5cc93f",
   "metadata": {},
   "outputs": [
    {
     "name": "stdout",
     "output_type": "stream",
     "text": [
      "Calling Tool : {'name': 'EBITDA', 'args': {'ticker': 'META'}, 'id': 'call_wzzy', 'type': 'tool_call'}\n",
      "Calling Tool : {'name': 'debt_to_equity_ratio', 'args': {'ticker': 'META'}, 'id': 'call_27wj', 'type': 'tool_call'}\n",
      "Tool execution is completed. Back to the model!\n"
     ]
    }
   ],
   "source": [
    "messages = [HumanMessage(content=\"What is the EBITDA and debt-to-equity ratio of Meta?\")]\n",
    "\n",
    "result = agent.graph.invoke({'messages': messages})"
   ]
  },
  {
   "cell_type": "code",
   "execution_count": 19,
   "id": "9a3b75a9-0398-4489-9872-2238d151e297",
   "metadata": {},
   "outputs": [
    {
     "data": {
      "text/plain": [
       "'The EBITDA of Meta is $74,774,003,712. The debt-to-equity ratio of Meta is 24.235.'"
      ]
     },
     "execution_count": 19,
     "metadata": {},
     "output_type": "execute_result"
    }
   ],
   "source": [
    "result['messages'][-1].content"
   ]
  },
  {
   "cell_type": "code",
   "execution_count": 24,
   "id": "f3f2d58c-50f2-4cb7-8c2a-55e1d20e0347",
   "metadata": {},
   "outputs": [
    {
     "name": "stdout",
     "output_type": "stream",
     "text": [
      "Calling Tool : {'name': 'total_revenue', 'args': {'ticker': 'AMZN'}, 'id': 'call_7874', 'type': 'tool_call'}\n",
      "Calling Tool : {'name': 'total_revenue', 'args': {'ticker': 'GOOGL'}, 'id': 'call_xme3', 'type': 'tool_call'}\n",
      "Tool execution is completed. Back to the model!\n"
     ]
    }
   ],
   "source": [
    "messages = [HumanMessage(content=\"Compare total revenue of Amazon and Google.\")]\n",
    "\n",
    "result = agent.graph.invoke({'messages': messages})"
   ]
  },
  {
   "cell_type": "code",
   "execution_count": 25,
   "id": "9eb2595e-7b3c-4aa8-8479-dca0e294fbba",
   "metadata": {},
   "outputs": [
    {
     "data": {
      "text/plain": [
       "\"Amazon's total revenue is $604.33 billion, while Google's total revenue is $328.28 billion. Amazon's total revenue is higher than Google's.\""
      ]
     },
     "execution_count": 25,
     "metadata": {},
     "output_type": "execute_result"
    }
   ],
   "source": [
    "result['messages'][-1].content"
   ]
  },
  {
   "cell_type": "markdown",
   "id": "7c7e250b-09af-40b8-8030-6f49dea60fdd",
   "metadata": {},
   "source": [
    "------"
   ]
  },
  {
   "cell_type": "markdown",
   "id": "a40361bc-e216-4ee5-8126-c8ef48f492df",
   "metadata": {},
   "source": [
    "### This project combines modern AI techniques, financial data tools, and state management to create an intelligent and interactive finance assistant. If you need more details or have specific questions about any part of the project, feel free to ask!"
   ]
  }
 ],
 "metadata": {
  "kernelspec": {
   "display_name": "Python 3 (ipykernel)",
   "language": "python",
   "name": "python3"
  },
  "language_info": {
   "codemirror_mode": {
    "name": "ipython",
    "version": 3
   },
   "file_extension": ".py",
   "mimetype": "text/x-python",
   "name": "python",
   "nbconvert_exporter": "python",
   "pygments_lexer": "ipython3",
   "version": "3.11.8"
  }
 },
 "nbformat": 4,
 "nbformat_minor": 5
}
